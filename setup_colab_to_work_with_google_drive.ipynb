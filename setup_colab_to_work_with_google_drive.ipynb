{
  "nbformat": 4,
  "nbformat_minor": 0,
  "metadata": {
    "colab": {
      "name": "setup_colab_to_work_with_google_drive",
      "version": "0.3.2",
      "provenance": [],
      "private_outputs": true,
      "collapsed_sections": []
    },
    "kernelspec": {
      "name": "python3",
      "display_name": "Python 3"
    },
    "accelerator": "GPU"
  },
  "cells": [
    {
      "cell_type": "markdown",
      "metadata": {
        "id": "view-in-github",
        "colab_type": "text"
      },
      "source": [
        "[View in Colaboratory](https://colab.research.google.com/github/abhibee/tensorflow/blob/master/setup_colab_to_work_with_google_drive.ipynb)"
      ]
    },
    {
      "metadata": {
        "id": "QJ9wEgN3doxh",
        "colab_type": "text"
      },
      "cell_type": "markdown",
      "source": [
        "## Install all the required software and give access to google drive through cli to colab"
      ]
    },
    {
      "metadata": {
        "id": "0eMe-xXid1cF",
        "colab_type": "code",
        "colab": {}
      },
      "cell_type": "code",
      "source": [
        "\n",
        "!apt-get install -y -qq software-properties-common python-software-properties module-init-tools\n",
        "!add-apt-repository -y ppa:alessandro-strada/ppa 2>&1 > /dev/null\n",
        "!apt-get update -qq 2>&1 > /dev/null\n",
        "!apt-get -y install -qq google-drive-ocamlfuse fuse\n",
        "from google.colab import auth\n",
        "auth.authenticate_user()\n",
        "from oauth2client.client import GoogleCredentials\n",
        "creds = GoogleCredentials.get_application_default()\n",
        "import getpass\n",
        "!google-drive-ocamlfuse -headless -id={creds.client_id} -secret={creds.client_secret} < /dev/null 2>&1 | grep URL\n",
        "vcode = getpass.getpass()\n",
        "!echo {vcode} | google-drive-ocamlfuse -headless -id={creds.client_id} -secret={creds.client_secret}\n",
        "!mkdir -p drive\n",
        "!google-drive-ocamlfuse drive"
      ],
      "execution_count": 0,
      "outputs": []
    },
    {
      "metadata": {
        "id": "oLAyIZHxclTk",
        "colab_type": "text"
      },
      "cell_type": "markdown",
      "source": [
        "## Mechanisms of getting data "
      ]
    },
    {
      "metadata": {
        "id": "RQqbJmFSd_lJ",
        "colab_type": "text"
      },
      "cell_type": "markdown",
      "source": [
        "### 1. Using wget"
      ]
    },
    {
      "metadata": {
        "id": "ZgRCxKQI0bda",
        "colab_type": "code",
        "colab": {}
      },
      "cell_type": "code",
      "source": [
        "!pwd\n",
        "!ls\n",
        "\"\"\"\n",
        "\n",
        "!wget https://github.com/keras-team/keras/blob/master/examples/mnist_cnn.py -P drive/colab\n",
        "!wget https://raw.githubusercontent.com/vincentarelbundock/Rdatasets/master/csv/datasets/Titanic.csv -P drive/colab\n",
        "\n",
        "import pandas as pd\n",
        "titanic = pd.read_csv(\"drive/colab/Titanic.csv\")\n",
        "titanic.head(5)\n",
        "\n",
        "\"\"\""
      ],
      "execution_count": 0,
      "outputs": []
    },
    {
      "metadata": {
        "id": "SOhKv3DF4F2T",
        "colab_type": "code",
        "colab": {}
      },
      "cell_type": "code",
      "source": [
        "!pip install kaggle-cli\n",
        "!pip install kaggle"
      ],
      "execution_count": 0,
      "outputs": []
    },
    {
      "metadata": {
        "id": "7Z3NrVkfc89P",
        "colab_type": "text"
      },
      "cell_type": "markdown",
      "source": [
        "### 2. Using Kaggle will need to copy local .kaggle folder(and json) to the root directory in colab ubuntu instance as below. I copied and kept in Google Drive in a folder called colab and copy it to the required location as and when the machine has to be rebuilt\n"
      ]
    },
    {
      "metadata": {
        "id": "QOAt8neCBjRJ",
        "colab_type": "code",
        "colab": {}
      },
      "cell_type": "code",
      "source": [
        "!cp -r ~/drive/colab/.kaggle ~\n",
        "!chmod 600 /content/.kaggle/kaggle.json\n",
        "!cd ~\n",
        "!cd .kaggle\n",
        "!ls\n"
      ],
      "execution_count": 0,
      "outputs": []
    },
    {
      "metadata": {
        "id": "t63Xelw-dYMZ",
        "colab_type": "text"
      },
      "cell_type": "markdown",
      "source": [
        "### Create the required folder structure before running this download command"
      ]
    },
    {
      "metadata": {
        "id": "nLp4QnHz6Wfw",
        "colab_type": "code",
        "colab": {}
      },
      "cell_type": "code",
      "source": [
        "!kaggle competitions download -c imaterialist-challenge-fashion-2018 -p drive/colab/competitions/imaterialist-challenge-fashion-2018\n"
      ],
      "execution_count": 0,
      "outputs": []
    },
    {
      "metadata": {
        "id": "sHoeulFoejeF",
        "colab_type": "code",
        "colab": {}
      },
      "cell_type": "code",
      "source": [
        "!ls drive/colab/competitions/imaterialist-challenge-fashion-2018"
      ],
      "execution_count": 0,
      "outputs": []
    },
    {
      "metadata": {
        "id": "P-NzxjfbedYY",
        "colab_type": "code",
        "colab": {}
      },
      "cell_type": "code",
      "source": [
        "from zipfile import *\n",
        "zip = ZipFile('drive/colab/competitions/imaterialist-challenge-fashion-2018/sample_submission.csv.zip')\n",
        "zip.extractall('drive/colab/competitions/imaterialist-challenge-fashion-2018/')\n",
        "zip = ZipFile('drive/colab/competitions/imaterialist-challenge-fashion-2018/test.json.zip')\n",
        "zip.extractall('drive/colab/competitions/imaterialist-challenge-fashion-2018/')\n",
        "zip = ZipFile('drive/colab/competitions/imaterialist-challenge-fashion-2018/validation.json.zip')\n",
        "zip.extractall('drive/colab/competitions/imaterialist-challenge-fashion-2018/')\n",
        "zip = ZipFile('drive/colab/competitions/imaterialist-challenge-fashion-2018/train.json.zip')\n",
        "zip.extractall('drive/colab/competitions/imaterialist-challenge-fashion-2018/')\n",
        "\n",
        "\n",
        "\n"
      ],
      "execution_count": 0,
      "outputs": []
    },
    {
      "metadata": {
        "id": "d6gy9j9Y0Q1U",
        "colab_type": "text"
      },
      "cell_type": "markdown",
      "source": [
        "## Code for Kaggle competition"
      ]
    },
    {
      "metadata": {
        "id": "0i4SklNkHF0u",
        "colab_type": "text"
      },
      "cell_type": "markdown",
      "source": [
        ""
      ]
    },
    {
      "metadata": {
        "id": "S3GCIpGz0FQf",
        "colab_type": "code",
        "colab": {}
      },
      "cell_type": "code",
      "source": [
        "!cd drive/colab/competitions/imaterialist-challenge-fashion-2018/\n",
        "!ls drive/colab/competitions/imaterialist-challenge-fashion-2018/"
      ],
      "execution_count": 0,
      "outputs": []
    },
    {
      "metadata": {
        "id": "FYHZNuja2BpD",
        "colab_type": "code",
        "colab": {}
      },
      "cell_type": "code",
      "source": [
        "!head -100 drive/colab/competitions/imaterialist-challenge-fashion-2018/train.json"
      ],
      "execution_count": 0,
      "outputs": []
    },
    {
      "metadata": {
        "id": "XmWFz8E1GFBK",
        "colab_type": "code",
        "colab": {}
      },
      "cell_type": "code",
      "source": [
        "import pandas as pd\n",
        "import urllib.request\n",
        "import cv2\n",
        "import numpy as np\n",
        "import json\n",
        "import pandas as pd\n",
        "\n",
        "data = json.load(open('drive/colab/competitions/imaterialist-challenge-fashion-2018/train.json'))\n",
        "df = pd.DataFrame(data[\"images\"])\n",
        "data[\"images\"][0][\"url\"]\n",
        "\n",
        "\n",
        "\n"
      ],
      "execution_count": 0,
      "outputs": []
    },
    {
      "metadata": {
        "id": "kEdgll7d3v4j",
        "colab_type": "code",
        "colab": {}
      },
      "cell_type": "code",
      "source": [
        "from PIL import Image\n",
        "import requests\n",
        "from io import BytesIO\n",
        "import pandas as pd\n",
        "import urllib.request\n",
        "import cv2\n",
        "import numpy as np\n",
        "import json\n",
        "import pandas as pd\n",
        "\n",
        "data = json.load(open('drive/colab/competitions/imaterialist-challenge-fashion-2018/train.json'))\n",
        "\n",
        "\n",
        "for image in data[\"images\"]:\n",
        "  try:\n",
        "    url = image[\"url\"]\n",
        "    imageid = image[\"imageId\"]\n",
        "    urllib.request.urlretrieve(url, \"drive/colab/competitions/imaterialist-challenge-fashion-2018/images/\"+ imageid + \".jpg\")\n",
        "  except :\n",
        "    print(\"issue with imageId \",imageid, \" with url \", url)      \n",
        "  \n",
        "#response = requests.get(url)\n",
        "#img = Image.open(BytesIO(response.content))\n",
        "\n",
        "\n",
        "\n"
      ],
      "execution_count": 0,
      "outputs": []
    },
    {
      "metadata": {
        "id": "XnhHVqHW9w_V",
        "colab_type": "code",
        "colab": {}
      },
      "cell_type": "code",
      "source": [
        "img.show() "
      ],
      "execution_count": 0,
      "outputs": []
    }
  ]
}