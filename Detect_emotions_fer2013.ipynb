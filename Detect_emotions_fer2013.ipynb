{
  "nbformat": 4,
  "nbformat_minor": 0,
  "metadata": {
    "colab": {
      "name": "Detect-emotions-fer2013.ipynb",
      "version": "0.3.2",
      "provenance": [],
      "collapsed_sections": []
    },
    "kernelspec": {
      "name": "python3",
      "display_name": "Python 3"
    },
    "accelerator": "GPU"
  },
  "cells": [
    {
      "cell_type": "markdown",
      "metadata": {
        "id": "view-in-github",
        "colab_type": "text"
      },
      "source": [
        "[View in Colaboratory](https://colab.research.google.com/github/abhibee/tensorflow/blob/master/Detect_emotions_fer2013.ipynb)"
      ]
    },
    {
      "metadata": {
        "id": "lUrQ8zrzrzxf",
        "colab_type": "code",
        "colab": {
          "base_uri": "https://localhost:8080/",
          "height": 34
        },
        "outputId": "89dc3f9b-7611-4542-a2ff-84e3f556b074"
      },
      "cell_type": "code",
      "source": [
        "import sys, os\n",
        "import pandas as pd\n",
        "import numpy as np\n",
        "import cv2\n",
        "from sklearn.model_selection import train_test_split\n",
        "from keras.models import Sequential\n",
        "from keras.layers import Dense, Dropout, Activation, Flatten\n",
        "from keras.layers import Conv2D, MaxPooling2D, BatchNormalization\n",
        "from keras.losses import categorical_crossentropy\n",
        "from keras.optimizers import Adam\n",
        "from keras.callbacks import ReduceLROnPlateau, TensorBoard, EarlyStopping, ModelCheckpoint\n",
        "from keras.models import load_model\n",
        "from keras import regularizers\n",
        "\n",
        "\n"
      ],
      "execution_count": 1,
      "outputs": [
        {
          "output_type": "stream",
          "text": [
            "Using TensorFlow backend.\n"
          ],
          "name": "stderr"
        }
      ]
    },
    {
      "metadata": {
        "id": "c0RxZEx2Hr1n",
        "colab_type": "code",
        "colab": {
          "base_uri": "https://localhost:8080/",
          "height": 122
        },
        "outputId": "3444ae5c-9985-4606-d266-bd2aad82e056"
      },
      "cell_type": "code",
      "source": [
        "!apt-get install -y -qq software-properties-common python-software-properties module-init-tools\n",
        "!add-apt-repository -y ppa:alessandro-strada/ppa 2>&1 > /dev/null\n",
        "!apt-get update -qq 2>&1 > /dev/null\n",
        "!apt-get -y install -qq google-drive-ocamlfuse fuse\n",
        "from google.colab import auth\n",
        "auth.authenticate_user()\n",
        "from oauth2client.client import GoogleCredentials\n",
        "creds = GoogleCredentials.get_application_default()\n",
        "import getpass\n",
        "!google-drive-ocamlfuse -headless -id={creds.client_id} -secret={creds.client_secret} < /dev/null 2>&1 | grep URL\n",
        "vcode = getpass.getpass()\n",
        "!echo {vcode} | google-drive-ocamlfuse -headless -id={creds.client_id} -secret={creds.client_secret}\n",
        "!mkdir -p drive\n",
        "!google-drive-ocamlfuse drive\n",
        "!mkdir models\n",
        "!pwd\n",
        "f = h5py.File(\"model.h5\", mode='a')\n",
        "f.close()\n"
      ],
      "execution_count": 3,
      "outputs": [
        {
          "output_type": "stream",
          "text": [
            "Please, open the following URL in a web browser: https://accounts.google.com/o/oauth2/auth?client_id=32555940559.apps.googleusercontent.com&redirect_uri=urn%3Aietf%3Awg%3Aoauth%3A2.0%3Aoob&scope=https%3A%2F%2Fwww.googleapis.com%2Fauth%2Fdrive&response_type=code&access_type=offline&approval_prompt=force\r\n",
            "··········\n",
            "Please, open the following URL in a web browser: https://accounts.google.com/o/oauth2/auth?client_id=32555940559.apps.googleusercontent.com&redirect_uri=urn%3Aietf%3Awg%3Aoauth%3A2.0%3Aoob&scope=https%3A%2F%2Fwww.googleapis.com%2Fauth%2Fdrive&response_type=code&access_type=offline&approval_prompt=force\n",
            "Please enter the verification code: Access token retrieved correctly.\n",
            "/content\n"
          ],
          "name": "stdout"
        }
      ]
    },
    {
      "metadata": {
        "id": "twZjCk24J9Ww",
        "colab_type": "code",
        "colab": {
          "base_uri": "https://localhost:8080/",
          "height": 34
        },
        "outputId": "27caf4bf-6a2d-4997-e701-51eb3c08aebf"
      },
      "cell_type": "code",
      "source": [
        "\"\"\"f = h5py.File(\"model.h5\", mode='a')\n",
        "f.close()\"\"\""
      ],
      "execution_count": 45,
      "outputs": [
        {
          "output_type": "execute_result",
          "data": {
            "text/plain": [
              "'f = h5py.File(\"model.h5\", mode=\\'a\\')\\nf.close()'"
            ]
          },
          "metadata": {
            "tags": []
          },
          "execution_count": 45
        }
      ]
    },
    {
      "metadata": {
        "id": "ng9TAKj68Y4K",
        "colab_type": "code",
        "colab": {
          "base_uri": "https://localhost:8080/",
          "height": 68
        },
        "outputId": "6bff4604-8cbf-4417-c0ba-81aed1083176"
      },
      "cell_type": "code",
      "source": [
        "!pwd\n",
        "!ls\n",
        "BASEPATH = 'drive/colab/EmotionRecognition'\n",
        "sys.path.insert(0, BASEPATH)\n",
        "os.chdir(BASEPATH)\n",
        "MODELPATH = 'model.h5'\n",
        "!ls fer2013-small*"
      ],
      "execution_count": 4,
      "outputs": [
        {
          "output_type": "stream",
          "text": [
            "/content\n",
            "datalab  drive\tmodel.h5  models\n",
            "fer2013-small.csv\n"
          ],
          "name": "stdout"
        }
      ]
    },
    {
      "metadata": {
        "id": "cRMBBKmW9Oob",
        "colab_type": "code",
        "colab": {}
      },
      "cell_type": "code",
      "source": [
        "num_features = 64\n",
        "num_labels = 7\n",
        "batch_size = 64\n",
        "epochs = 100\n",
        "width, height = 48, 48"
      ],
      "execution_count": 0,
      "outputs": []
    },
    {
      "metadata": {
        "id": "hgUAQnjk9SdR",
        "colab_type": "code",
        "colab": {}
      },
      "cell_type": "code",
      "source": [
        "data = pd.read_csv('fer2013.csv')"
      ],
      "execution_count": 0,
      "outputs": []
    },
    {
      "metadata": {
        "id": "AS4jvzBB9Vgx",
        "colab_type": "code",
        "colab": {
          "base_uri": "https://localhost:8080/",
          "height": 204
        },
        "outputId": "009a0b03-c292-4178-a598-5746d03e6847"
      },
      "cell_type": "code",
      "source": [
        "data.tail()\n"
      ],
      "execution_count": 7,
      "outputs": [
        {
          "output_type": "execute_result",
          "data": {
            "text/html": [
              "<div>\n",
              "<style scoped>\n",
              "    .dataframe tbody tr th:only-of-type {\n",
              "        vertical-align: middle;\n",
              "    }\n",
              "\n",
              "    .dataframe tbody tr th {\n",
              "        vertical-align: top;\n",
              "    }\n",
              "\n",
              "    .dataframe thead th {\n",
              "        text-align: right;\n",
              "    }\n",
              "</style>\n",
              "<table border=\"1\" class=\"dataframe\">\n",
              "  <thead>\n",
              "    <tr style=\"text-align: right;\">\n",
              "      <th></th>\n",
              "      <th>emotion</th>\n",
              "      <th>pixels</th>\n",
              "      <th>Usage</th>\n",
              "    </tr>\n",
              "  </thead>\n",
              "  <tbody>\n",
              "    <tr>\n",
              "      <th>35882</th>\n",
              "      <td>6</td>\n",
              "      <td>50 36 17 22 23 29 33 39 34 37 37 37 39 43 48 5...</td>\n",
              "      <td>PrivateTest</td>\n",
              "    </tr>\n",
              "    <tr>\n",
              "      <th>35883</th>\n",
              "      <td>3</td>\n",
              "      <td>178 174 172 173 181 188 191 194 196 199 200 20...</td>\n",
              "      <td>PrivateTest</td>\n",
              "    </tr>\n",
              "    <tr>\n",
              "      <th>35884</th>\n",
              "      <td>0</td>\n",
              "      <td>17 17 16 23 28 22 19 17 25 26 20 24 31 19 27 9...</td>\n",
              "      <td>PrivateTest</td>\n",
              "    </tr>\n",
              "    <tr>\n",
              "      <th>35885</th>\n",
              "      <td>3</td>\n",
              "      <td>30 28 28 29 31 30 42 68 79 81 77 67 67 71 63 6...</td>\n",
              "      <td>PrivateTest</td>\n",
              "    </tr>\n",
              "    <tr>\n",
              "      <th>35886</th>\n",
              "      <td>2</td>\n",
              "      <td>19 13 14 12 13 16 21 33 50 57 71 84 97 108 122...</td>\n",
              "      <td>PrivateTest</td>\n",
              "    </tr>\n",
              "  </tbody>\n",
              "</table>\n",
              "</div>"
            ],
            "text/plain": [
              "       emotion                                             pixels        Usage\n",
              "35882        6  50 36 17 22 23 29 33 39 34 37 37 37 39 43 48 5...  PrivateTest\n",
              "35883        3  178 174 172 173 181 188 191 194 196 199 200 20...  PrivateTest\n",
              "35884        0  17 17 16 23 28 22 19 17 25 26 20 24 31 19 27 9...  PrivateTest\n",
              "35885        3  30 28 28 29 31 30 42 68 79 81 77 67 67 71 63 6...  PrivateTest\n",
              "35886        2  19 13 14 12 13 16 21 33 50 57 71 84 97 108 122...  PrivateTest"
            ]
          },
          "metadata": {
            "tags": []
          },
          "execution_count": 7
        }
      ]
    },
    {
      "metadata": {
        "id": "qz-I0nkd9WMg",
        "colab_type": "code",
        "colab": {}
      },
      "cell_type": "code",
      "source": [
        "pixels = data['pixels'].tolist() # 1\n",
        "\n",
        "faces = []\n",
        "for pixel_sequence in pixels:\n",
        "    face = [int(pixel) for pixel in pixel_sequence.split(' ')] # 2\n",
        "    face = np.asarray(face).reshape(width, height) # 3\n",
        "    face = face / 255.0 # 4\n",
        "    face = cv2.resize(face.astype('uint8'), (width, height)) # 5\n",
        "    faces.append(face.astype('float32'))\n",
        "\n",
        "faces = np.asarray(faces)\n",
        "faces = np.expand_dims(faces, -1) # 6\n",
        "\n",
        "emotions = pd.get_dummies(data['emotion']).as_matrix() # 7"
      ],
      "execution_count": 0,
      "outputs": []
    },
    {
      "metadata": {
        "id": "nN3V_peW9okB",
        "colab_type": "code",
        "colab": {}
      },
      "cell_type": "code",
      "source": [
        "X_train, X_test, y_train, y_test = train_test_split(faces, emotions, test_size=0.1, random_state=42)\n",
        "X_train, X_val, y_train, y_val = train_test_split(X_train, y_train, test_size=0.1, random_state=41)"
      ],
      "execution_count": 0,
      "outputs": []
    },
    {
      "metadata": {
        "id": "ohh6EqiP9tmT",
        "colab_type": "code",
        "colab": {}
      },
      "cell_type": "code",
      "source": [
        "from keras import regularizers\n",
        "\n",
        "model = Sequential()\n",
        "\n",
        "model.add(Conv2D(num_features, kernel_size=(3, 3), activation='relu', input_shape=(width, height, 1), data_format='channels_last', kernel_regularizer=regularizers.l2(0.01)))\n",
        "model.add(Conv2D(num_features, kernel_size=(3, 3), activation='relu', padding='same'))\n",
        "model.add(BatchNormalization())\n",
        "model.add(MaxPooling2D(pool_size=(2, 2), strides=(2, 2)))\n",
        "model.add(Dropout(0.5))\n",
        "\n",
        "model.add(Conv2D(2*num_features, kernel_size=(3, 3), activation='relu', padding='same'))\n",
        "model.add(BatchNormalization())\n",
        "model.add(Conv2D(2*num_features, kernel_size=(3, 3), activation='relu', padding='same'))\n",
        "model.add(BatchNormalization())\n",
        "model.add(MaxPooling2D(pool_size=(2, 2), strides=(2, 2)))\n",
        "model.add(Dropout(0.5))\n",
        "\n",
        "model.add(Conv2D(2*2*num_features, kernel_size=(3, 3), activation='relu', padding='same'))\n",
        "model.add(BatchNormalization())\n",
        "model.add(Conv2D(2*2*num_features, kernel_size=(3, 3), activation='relu', padding='same'))\n",
        "model.add(BatchNormalization())\n",
        "model.add(MaxPooling2D(pool_size=(2, 2), strides=(2, 2)))\n",
        "model.add(Dropout(0.5))\n",
        "\n",
        "model.add(Conv2D(2*2*2*num_features, kernel_size=(3, 3), activation='relu', padding='same'))\n",
        "model.add(BatchNormalization())\n",
        "model.add(Conv2D(2*2*2*num_features, kernel_size=(3, 3), activation='relu', padding='same'))\n",
        "model.add(BatchNormalization())\n",
        "model.add(MaxPooling2D(pool_size=(2, 2), strides=(2, 2)))\n",
        "model.add(Dropout(0.5))\n",
        "\n",
        "model.add(Flatten())\n",
        "\n",
        "model.add(Dense(2*2*2*num_features, activation='relu'))\n",
        "model.add(Dropout(0.4))\n",
        "model.add(Dense(2*2*num_features, activation='relu'))\n",
        "model.add(Dropout(0.4))\n",
        "model.add(Dense(2*num_features, activation='relu'))\n",
        "model.add(Dropout(0.5))\n",
        "\n",
        "model.add(Dense(num_labels, activation='softmax'))"
      ],
      "execution_count": 0,
      "outputs": []
    },
    {
      "metadata": {
        "id": "zzGJjlt992h2",
        "colab_type": "code",
        "colab": {
          "base_uri": "https://localhost:8080/",
          "height": 1190
        },
        "outputId": "6ffb9b08-0aaa-427c-d090-438103201f24"
      },
      "cell_type": "code",
      "source": [
        "model.summary()"
      ],
      "execution_count": 11,
      "outputs": [
        {
          "output_type": "stream",
          "text": [
            "_________________________________________________________________\n",
            "Layer (type)                 Output Shape              Param #   \n",
            "=================================================================\n",
            "conv2d_1 (Conv2D)            (None, 46, 46, 64)        640       \n",
            "_________________________________________________________________\n",
            "conv2d_2 (Conv2D)            (None, 46, 46, 64)        36928     \n",
            "_________________________________________________________________\n",
            "batch_normalization_1 (Batch (None, 46, 46, 64)        256       \n",
            "_________________________________________________________________\n",
            "max_pooling2d_1 (MaxPooling2 (None, 23, 23, 64)        0         \n",
            "_________________________________________________________________\n",
            "dropout_1 (Dropout)          (None, 23, 23, 64)        0         \n",
            "_________________________________________________________________\n",
            "conv2d_3 (Conv2D)            (None, 23, 23, 128)       73856     \n",
            "_________________________________________________________________\n",
            "batch_normalization_2 (Batch (None, 23, 23, 128)       512       \n",
            "_________________________________________________________________\n",
            "conv2d_4 (Conv2D)            (None, 23, 23, 128)       147584    \n",
            "_________________________________________________________________\n",
            "batch_normalization_3 (Batch (None, 23, 23, 128)       512       \n",
            "_________________________________________________________________\n",
            "max_pooling2d_2 (MaxPooling2 (None, 11, 11, 128)       0         \n",
            "_________________________________________________________________\n",
            "dropout_2 (Dropout)          (None, 11, 11, 128)       0         \n",
            "_________________________________________________________________\n",
            "conv2d_5 (Conv2D)            (None, 11, 11, 256)       295168    \n",
            "_________________________________________________________________\n",
            "batch_normalization_4 (Batch (None, 11, 11, 256)       1024      \n",
            "_________________________________________________________________\n",
            "conv2d_6 (Conv2D)            (None, 11, 11, 256)       590080    \n",
            "_________________________________________________________________\n",
            "batch_normalization_5 (Batch (None, 11, 11, 256)       1024      \n",
            "_________________________________________________________________\n",
            "max_pooling2d_3 (MaxPooling2 (None, 5, 5, 256)         0         \n",
            "_________________________________________________________________\n",
            "dropout_3 (Dropout)          (None, 5, 5, 256)         0         \n",
            "_________________________________________________________________\n",
            "conv2d_7 (Conv2D)            (None, 5, 5, 512)         1180160   \n",
            "_________________________________________________________________\n",
            "batch_normalization_6 (Batch (None, 5, 5, 512)         2048      \n",
            "_________________________________________________________________\n",
            "conv2d_8 (Conv2D)            (None, 5, 5, 512)         2359808   \n",
            "_________________________________________________________________\n",
            "batch_normalization_7 (Batch (None, 5, 5, 512)         2048      \n",
            "_________________________________________________________________\n",
            "max_pooling2d_4 (MaxPooling2 (None, 2, 2, 512)         0         \n",
            "_________________________________________________________________\n",
            "dropout_4 (Dropout)          (None, 2, 2, 512)         0         \n",
            "_________________________________________________________________\n",
            "flatten_1 (Flatten)          (None, 2048)              0         \n",
            "_________________________________________________________________\n",
            "dense_1 (Dense)              (None, 512)               1049088   \n",
            "_________________________________________________________________\n",
            "dropout_5 (Dropout)          (None, 512)               0         \n",
            "_________________________________________________________________\n",
            "dense_2 (Dense)              (None, 256)               131328    \n",
            "_________________________________________________________________\n",
            "dropout_6 (Dropout)          (None, 256)               0         \n",
            "_________________________________________________________________\n",
            "dense_3 (Dense)              (None, 128)               32896     \n",
            "_________________________________________________________________\n",
            "dropout_7 (Dropout)          (None, 128)               0         \n",
            "_________________________________________________________________\n",
            "dense_4 (Dense)              (None, 7)                 903       \n",
            "=================================================================\n",
            "Total params: 5,905,863\n",
            "Trainable params: 5,902,151\n",
            "Non-trainable params: 3,712\n",
            "_________________________________________________________________\n"
          ],
          "name": "stdout"
        }
      ]
    },
    {
      "metadata": {
        "id": "2f1q-SaO97sb",
        "colab_type": "code",
        "colab": {}
      },
      "cell_type": "code",
      "source": [
        "import tensorflow as tf\n",
        "run_opts = tf.RunOptions(report_tensor_allocations_upon_oom = True)\n",
        "\n",
        "model.compile(loss=categorical_crossentropy,\n",
        "              optimizer=Adam(lr=0.001, beta_1=0.9, beta_2=0.999, epsilon=1e-7),\n",
        "              metrics=['accuracy'], options = run_opts)"
      ],
      "execution_count": 0,
      "outputs": []
    },
    {
      "metadata": {
        "id": "LUqlbBlN9-l7",
        "colab_type": "code",
        "colab": {}
      },
      "cell_type": "code",
      "source": [
        "lr_reducer = ReduceLROnPlateau(monitor='val_loss', factor=0.9, patience=3, verbose=1)"
      ],
      "execution_count": 0,
      "outputs": []
    },
    {
      "metadata": {
        "id": "yLodxkvu-BFj",
        "colab_type": "code",
        "colab": {}
      },
      "cell_type": "code",
      "source": [
        "tensorboard = TensorBoard(log_dir='./logs')"
      ],
      "execution_count": 0,
      "outputs": []
    },
    {
      "metadata": {
        "id": "6wna4mbK-DuZ",
        "colab_type": "code",
        "colab": {}
      },
      "cell_type": "code",
      "source": [
        "early_stopper = EarlyStopping(monitor='val_loss', min_delta=0, patience=8, verbose=1, mode='auto')"
      ],
      "execution_count": 0,
      "outputs": []
    },
    {
      "metadata": {
        "id": "KAs-_E2x-I-C",
        "colab_type": "code",
        "colab": {}
      },
      "cell_type": "code",
      "source": [
        "checkpointer = ModelCheckpoint(MODELPATH, monitor='val_loss', verbose=1, save_best_only=True)"
      ],
      "execution_count": 0,
      "outputs": []
    },
    {
      "metadata": {
        "id": "OqSzDgiv-LUB",
        "colab_type": "code",
        "colab": {
          "base_uri": "https://localhost:8080/",
          "height": 1108
        },
        "outputId": "e999c105-0e6e-471f-b325-27131dac10e9"
      },
      "cell_type": "code",
      "source": [
        "model.fit(np.array(X_train), np.array(y_train),\n",
        "          batch_size=batch_size,\n",
        "          epochs=epochs,\n",
        "          verbose=1,\n",
        "          validation_data=(np.array(X_test), np.array(y_test)),\n",
        "          shuffle=True,\n",
        "          callbacks=[lr_reducer, tensorboard, early_stopper, checkpointer])"
      ],
      "execution_count": 0,
      "outputs": [
        {
          "output_type": "stream",
          "text": [
            "Train on 29068 samples, validate on 3589 samples\n",
            "Epoch 1/100\n",
            "29068/29068 [==============================] - 70s 2ms/step - loss: 2.0817 - acc: 0.2117 - val_loss: 1.8379 - val_acc: 0.2455\n",
            "\n",
            "Epoch 00001: val_loss improved from inf to 1.83793, saving model to model.h5\n",
            "Epoch 2/100\n",
            " 5888/29068 [=====>........................] - ETA: 52s - loss: 1.8655 - acc: 0.2366"
          ],
          "name": "stdout"
        },
        {
          "output_type": "stream",
          "text": [
            "29068/29068 [==============================] - 68s 2ms/step - loss: 1.8472 - acc: 0.2420 - val_loss: 1.8218 - val_acc: 0.2455\n",
            "\n",
            "Epoch 00002: val_loss improved from 1.83793 to 1.82185, saving model to model.h5\n",
            "Epoch 3/100\n",
            "14528/29068 [=============>................] - ETA: 32s - loss: 1.8353 - acc: 0.2449"
          ],
          "name": "stdout"
        },
        {
          "output_type": "stream",
          "text": [
            "29068/29068 [==============================] - 68s 2ms/step - loss: 1.8285 - acc: 0.2486 - val_loss: 1.8227 - val_acc: 0.2455\n",
            "\n",
            "Epoch 00003: val_loss did not improve from 1.82185\n",
            "Epoch 4/100\n",
            "18816/29068 [==================>...........] - ETA: 23s - loss: 1.8179 - acc: 0.2521"
          ],
          "name": "stdout"
        },
        {
          "output_type": "stream",
          "text": [
            "29068/29068 [==============================] - 68s 2ms/step - loss: 1.8186 - acc: 0.2513 - val_loss: 1.8106 - val_acc: 0.2488\n",
            "\n",
            "Epoch 00004: val_loss improved from 1.82185 to 1.81059, saving model to model.h5\n",
            "Epoch 5/100\n",
            "18048/29068 [=================>............] - ETA: 24s - loss: 1.8093 - acc: 0.2527"
          ],
          "name": "stdout"
        },
        {
          "output_type": "stream",
          "text": [
            "29068/29068 [==============================] - 68s 2ms/step - loss: 1.8121 - acc: 0.2526 - val_loss: 1.8077 - val_acc: 0.2455\n",
            "\n",
            "Epoch 00005: val_loss improved from 1.81059 to 1.80769, saving model to model.h5\n",
            "Epoch 6/100\n",
            "17856/29068 [=================>............] - ETA: 25s - loss: 1.8128 - acc: 0.2508"
          ],
          "name": "stdout"
        },
        {
          "output_type": "stream",
          "text": [
            "29068/29068 [==============================] - 68s 2ms/step - loss: 1.8104 - acc: 0.2508 - val_loss: 1.8080 - val_acc: 0.2455\n",
            "\n",
            "Epoch 00006: val_loss did not improve from 1.80769\n",
            "Epoch 7/100\n",
            "19840/29068 [===================>..........] - ETA: 20s - loss: 1.8099 - acc: 0.2528"
          ],
          "name": "stdout"
        },
        {
          "output_type": "stream",
          "text": [
            "29068/29068 [==============================] - 68s 2ms/step - loss: 1.8084 - acc: 0.2515 - val_loss: 1.8213 - val_acc: 0.2455\n",
            "\n",
            "Epoch 00007: val_loss did not improve from 1.80769\n",
            "Epoch 8/100\n",
            "20480/29068 [====================>.........] - ETA: 19s - loss: 1.8078 - acc: 0.2499"
          ],
          "name": "stdout"
        },
        {
          "output_type": "stream",
          "text": [
            "29068/29068 [==============================] - 68s 2ms/step - loss: 1.8083 - acc: 0.2515 - val_loss: 1.8140 - val_acc: 0.2458\n",
            "\n",
            "Epoch 00008: ReduceLROnPlateau reducing learning rate to 0.0009000000427477062.\n",
            "\n",
            "Epoch 00008: val_loss did not improve from 1.80769\n",
            "Epoch 9/100\n",
            "15872/29068 [===============>..............] - ETA: 29s - loss: 1.8030 - acc: 0.2584"
          ],
          "name": "stdout"
        },
        {
          "output_type": "stream",
          "text": [
            "29068/29068 [==============================] - 68s 2ms/step - loss: 1.8073 - acc: 0.2523 - val_loss: 1.8098 - val_acc: 0.2471\n",
            "\n",
            "Epoch 00009: val_loss did not improve from 1.80769\n",
            "Epoch 10/100\n",
            "19200/29068 [==================>...........] - ETA: 22s - loss: 1.8039 - acc: 0.2523"
          ],
          "name": "stdout"
        },
        {
          "output_type": "stream",
          "text": [
            "29068/29068 [==============================] - 68s 2ms/step - loss: 1.8043 - acc: 0.2542 - val_loss: 1.8386 - val_acc: 0.2533\n",
            "\n",
            "Epoch 00010: val_loss did not improve from 1.80769\n",
            "Epoch 11/100\n",
            "20160/29068 [===================>..........] - ETA: 19s - loss: 1.8064 - acc: 0.2545"
          ],
          "name": "stdout"
        },
        {
          "output_type": "stream",
          "text": [
            "29068/29068 [==============================] - 68s 2ms/step - loss: 1.8042 - acc: 0.2542 - val_loss: 1.8118 - val_acc: 0.2530\n",
            "\n",
            "Epoch 00011: ReduceLROnPlateau reducing learning rate to 0.0008100000384729356.\n",
            "\n",
            "Epoch 00011: val_loss did not improve from 1.80769\n",
            "Epoch 12/100\n",
            "15808/29068 [===============>..............] - ETA: 29s - loss: 1.8021 - acc: 0.2561"
          ],
          "name": "stdout"
        },
        {
          "output_type": "stream",
          "text": [
            "29068/29068 [==============================] - 68s 2ms/step - loss: 1.8015 - acc: 0.2535 - val_loss: 1.8327 - val_acc: 0.2455\n",
            "\n",
            "Epoch 00012: val_loss did not improve from 1.80769\n",
            "Epoch 13/100\n",
            "19136/29068 [==================>...........] - ETA: 22s - loss: 1.7999 - acc: 0.2564"
          ],
          "name": "stdout"
        },
        {
          "output_type": "stream",
          "text": [
            "29068/29068 [==============================] - 68s 2ms/step - loss: 1.8009 - acc: 0.2549 - val_loss: 1.8022 - val_acc: 0.2527\n",
            "\n",
            "Epoch 00013: val_loss improved from 1.80769 to 1.80221, saving model to model.h5\n",
            "Epoch 14/100\n",
            "18112/29068 [=================>............] - ETA: 24s - loss: 1.7998 - acc: 0.2578"
          ],
          "name": "stdout"
        },
        {
          "output_type": "stream",
          "text": [
            "29068/29068 [==============================] - 68s 2ms/step - loss: 1.8006 - acc: 0.2551 - val_loss: 1.8142 - val_acc: 0.2458\n",
            "\n",
            "Epoch 00014: val_loss did not improve from 1.80221\n",
            "Epoch 15/100\n",
            "19840/29068 [===================>..........] - ETA: 20s - loss: 1.7976 - acc: 0.2589"
          ],
          "name": "stdout"
        },
        {
          "output_type": "stream",
          "text": [
            "27584/29068 [===========================>..] - ETA: 3s - loss: 1.7985 - acc: 0.2567"
          ],
          "name": "stdout"
        }
      ]
    },
    {
      "metadata": {
        "id": "124ePOK--N7k",
        "colab_type": "code",
        "colab": {}
      },
      "cell_type": "code",
      "source": [
        "scores = model.evaluate(np.array(X_test), np.array(y_test), batch_size=batch_size)\n",
        "print(\"Loss: \" + str(scores[0]))\n",
        "print(\"Accuracy: \" + str(scores[1]))"
      ],
      "execution_count": 0,
      "outputs": []
    }
  ]
}